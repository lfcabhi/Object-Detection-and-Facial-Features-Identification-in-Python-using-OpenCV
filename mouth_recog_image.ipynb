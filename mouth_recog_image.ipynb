{
 "cells": [
  {
   "cell_type": "code",
   "execution_count": 1,
   "metadata": {},
   "outputs": [],
   "source": [
    "import cv2\n",
    "import numpy as np\n",
    "from IPython.display import Image\n",
    "\n",
    "face_cascade = cv2.CascadeClassifier('haar_cascade_files/haarcascade_frontalface_extended.xml')\n",
    "mouth_cascade = cv2.CascadeClassifier('C:/Users/Abhishek/Documents/DL code/Jupyter_Notebooks/FINAL/haar_cascade_files/haarcascade_mcs_mouth.xml')\n",
    "\n",
    "if mouth_cascade.empty():\n",
    "    raise IOError('Unable to load the mouth cascade classifier xml file')\n",
    "    \n",
    "\n",
    "img = cv2.imread('kid.jpeg')\n",
    "\n",
    "#Image('img_2.jpeg')"
   ]
  },
  {
   "cell_type": "code",
   "execution_count": 2,
   "metadata": {},
   "outputs": [],
   "source": [
    "gray = cv2.cvtColor(img, cv2.COLOR_BGR2GRAY)"
   ]
  },
  {
   "cell_type": "code",
   "execution_count": null,
   "metadata": {},
   "outputs": [],
   "source": [
    "#cap = cv2.VideoCapture(0)\n",
    "#ds_factor = 0.5\n",
    "\n",
    "#while True:\n",
    "    #ret, frame = cap.read()\n",
    "    #frame = cv2.resize(frame, None, fx=ds_factor, fy=ds_factor, interpolation=cv2.INTER_AREA)\n",
    "\n",
    "faces = face_cascade.detectMultiScale(gray, 1.07, 2)\n",
    "for (x,y,w,h) in faces:\n",
    "     cv2.rectangle(img,(x,y),(x+w,y+h),(255,0,0),2)\n",
    "     roi_gray = gray[y:y+h, x:x+w]\n",
    "     roi_color = img[y:y+h, x:x+w]\n",
    "     y = int(y - 0.15*h)\n",
    "     # noses = nose_cascade.detectMultiScale(roi_gray)\n",
    "     mouth_rects = mouth_cascade.detectMultiScale(roi_gray)\n",
    "     for (ex,ey,ew,eh) in mouth_rects:\n",
    "        cv2.rectangle(roi_color,(ex,ey),(ex+ew,ey+eh),(0,0,0),2)\n",
    "\n",
    "        \n",
    "cv2.imshow('img', img)\n",
    "    \n",
    "#if cv2.waitKey(33) == 27:\n",
    "    #break\n",
    "cv2.waitKey(0)\n",
    "cv2.destroyAllWindows()"
   ]
  },
  {
   "cell_type": "markdown",
   "metadata": {},
   "source": [
    "# UNSATISFATORY RESULTS"
   ]
  },
  {
   "cell_type": "markdown",
   "metadata": {},
   "source": [
    "mouth_rects = mouth_cascade.detectMultiScale(gray, 1.8,4)\n",
    "for (x,y,w,h) in mouth_rects:\n",
    "    cv2.rectangle(img,(x,y),(x+w,y+h),(0,255,255),2)\n",
    "    roi_gray = gray[y:y+h, x:x+w]\n",
    "    roi_color = img[y:y+h, x:x+w]\n",
    "    #y = int(y - 0.15*h)"
   ]
  }
 ],
 "metadata": {
  "kernelspec": {
   "display_name": "Python 3",
   "language": "python",
   "name": "python3"
  },
  "language_info": {
   "codemirror_mode": {
    "name": "ipython",
    "version": 3
   },
   "file_extension": ".py",
   "mimetype": "text/x-python",
   "name": "python",
   "nbconvert_exporter": "python",
   "pygments_lexer": "ipython3",
   "version": "3.7.6"
  }
 },
 "nbformat": 4,
 "nbformat_minor": 4
}
